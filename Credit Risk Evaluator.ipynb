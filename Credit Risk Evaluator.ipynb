{
 "cells": [
  {
   "cell_type": "code",
   "execution_count": 1,
   "metadata": {},
   "outputs": [],
   "source": [
    "#import dependancies\n",
    "import numpy as np\n",
    "import pandas as pd\n",
    "from pathlib import Path\n",
    "from sklearn.linear_model import LogisticRegression\n",
    "from sklearn.ensemble import RandomForestClassifier\n",
    "from sklearn.preprocessing import StandardScaler\n",
    "import warnings\n",
    "warnings.filterwarnings('ignore')"
   ]
  },
  {
   "cell_type": "code",
   "execution_count": 2,
   "metadata": {},
   "outputs": [],
   "source": [
    "#load csv files\n",
    "train_df = pd.read_csv(Path('Resources/2019loans.csv'))\n",
    "test_df = pd.read_csv(Path('Resources/2020Q1loans.csv'))"
   ]
  },
  {
   "cell_type": "code",
   "execution_count": 3,
   "metadata": {},
   "outputs": [
    {
     "data": {
      "text/plain": [
       "8"
      ]
     },
     "execution_count": 3,
     "metadata": {},
     "output_type": "execute_result"
    }
   ],
   "source": [
    "#count columns with object data types\n",
    "sum(test_df.dtypes == object)"
   ]
  },
  {
   "cell_type": "code",
   "execution_count": 4,
   "metadata": {},
   "outputs": [
    {
     "data": {
      "text/plain": [
       "Index(['home_ownership', 'verification_status', 'loan_status', 'pymnt_plan',\n",
       "       'initial_list_status', 'application_type', 'hardship_flag',\n",
       "       'debt_settlement_flag'],\n",
       "      dtype='object')"
      ]
     },
     "execution_count": 4,
     "metadata": {},
     "output_type": "execute_result"
    }
   ],
   "source": [
    "#check columns with object type\n",
    "train_cat_columns = train_df.select_dtypes(['object']).columns\n",
    "train_cat_columns"
   ]
  },
  {
   "cell_type": "code",
   "execution_count": 5,
   "metadata": {},
   "outputs": [],
   "source": [
    "# Convert categorical data to numeric and separate target feature for training data\n",
    "train_dummies_df = pd.get_dummies(train_df, prefix='', prefix_sep='',\n",
    "                            columns=['home_ownership','verification_status'\n",
    "                                     ,'loan_status','pymnt_plan',\n",
    "                                     'initial_list_status','application_type',\n",
    "                                     'hardship_flag','debt_settlement_flag'])"
   ]
  },
  {
   "cell_type": "code",
   "execution_count": 6,
   "metadata": {},
   "outputs": [
    {
     "data": {
      "text/plain": [
       "Index(['home_ownership', 'verification_status', 'loan_status', 'pymnt_plan',\n",
       "       'initial_list_status', 'application_type', 'hardship_flag',\n",
       "       'debt_settlement_flag'],\n",
       "      dtype='object')"
      ]
     },
     "execution_count": 6,
     "metadata": {},
     "output_type": "execute_result"
    }
   ],
   "source": [
    "# check test_cat_columns data types that are object\n",
    "test_cat_columns = test_df.select_dtypes(['object']).columns\n",
    "test_cat_columns"
   ]
  },
  {
   "cell_type": "code",
   "execution_count": 7,
   "metadata": {},
   "outputs": [],
   "source": [
    "# Convert categorical data to numeric and separate target feature for testing data\n",
    "test_dummies_df = pd.get_dummies(test_df, prefix='', prefix_sep='',\n",
    "                            columns=['home_ownership', 'verification_status', 'loan_status',\n",
    "                                     'pymnt_plan','initial_list_status', 'application_type',\n",
    "                                     'hardship_flag','debt_settlement_flag'])"
   ]
  },
  {
   "cell_type": "code",
   "execution_count": 8,
   "metadata": {},
   "outputs": [],
   "source": [
    "num_train = test_dummies_df.columns[test_dummies_df.dtypes!='object']\n",
    "cat_train = test_dummies_df.columns[test_dummies_df.dtypes=='object']\n",
    "# test_dummies_df[num_train].isnull().sum().sort_values(ascending=False)"
   ]
  },
  {
   "cell_type": "code",
   "execution_count": 9,
   "metadata": {},
   "outputs": [],
   "source": [
    "num_test = test_dummies_df.columns[test_dummies_df.dtypes!='object']\n",
    "cat_test = test_dummies_df.columns[test_dummies_df.dtypes=='object']\n",
    "# test_dummies_df[num_test].isnull().sum().sort_values(ascending=False)"
   ]
  },
  {
   "cell_type": "code",
   "execution_count": 10,
   "metadata": {},
   "outputs": [],
   "source": [
    "# add missing dummy variables to testing set\n",
    "#the following line returns empty list because there are two identical columns in train_dummies_df - 'Y'\n",
    "c = list(set(train_dummies_df.columns).symmetric_difference(test_dummies_df))\n",
    "\n",
    "#check if there are any differences in values between two identical columns 'Y'\n",
    "(train_dummies_df['Y'] != train_dummies_df['Y']).sum()\n",
    "\n",
    "#since there found to be no differences in columns 'Y', I decided to drop duplicates from dataframes\n",
    "train_dummies_df = train_dummies_df.loc[:,~train_dummies_df.columns.duplicated()]\n",
    "test_dummies_df = test_dummies_df.loc[:,~test_dummies_df.columns.duplicated()]\n",
    "# len(train_dummies_df.columns)\n",
    "\n",
    "X_train = train_dummies_df.drop([\"high_risk\",\"low_risk\"], axis=1).values\n",
    "y_train = train_dummies_df[\"high_risk\"].values\n",
    "\n",
    "X_test = test_dummies_df.drop([\"high_risk\",\"low_risk\"], axis=1).values\n",
    "y_test = test_dummies_df[\"high_risk\"].values"
   ]
  },
  {
   "cell_type": "code",
   "execution_count": 11,
   "metadata": {},
   "outputs": [
    {
     "name": "stdout",
     "output_type": "stream",
     "text": [
      "Logistic Regression Training Data Score: 0.6493431855500821\n",
      "Logistic RegressionTesting Data Score: 0.5250957039557635\n"
     ]
    }
   ],
   "source": [
    "# Train the Logistic Regression model on the unscaled data and print the model score\n",
    "classifier = LogisticRegression()\n",
    "classifier.fit(X_train, y_train)\n",
    "print(f\"Logistic Regression Training Data Score: {classifier.score(X_train, y_train)}\")\n",
    "print(f\"Logistic RegressionTesting Data Score: {classifier.score(X_test, y_test)}\")"
   ]
  },
  {
   "cell_type": "code",
   "execution_count": 12,
   "metadata": {},
   "outputs": [
    {
     "name": "stdout",
     "output_type": "stream",
     "text": [
      "Random Forest Training Data Score: 1.0\n",
      "Random Forest Testing Data Score: 0.6225010633772863\n"
     ]
    }
   ],
   "source": [
    "# Train a Random Forest Classifier model and print the model score\n",
    "rf_clf = RandomForestClassifier(random_state=1)\n",
    "rf_clf.fit(X_train, y_train)\n",
    "print(f\"Random Forest Training Data Score: {rf_clf.score(X_train, y_train)}\")\n",
    "print(f\"Random Forest Testing Data Score: {rf_clf.score(X_test, y_test)}\")"
   ]
  },
  {
   "cell_type": "code",
   "execution_count": 13,
   "metadata": {},
   "outputs": [],
   "source": [
    "# Scale the data\n",
    "scaler = StandardScaler()\n",
    "X_train_scaled = scaler.fit_transform(X_train)\n",
    "X_test_scaled = scaler.fit_transform(X_test)"
   ]
  },
  {
   "cell_type": "code",
   "execution_count": 14,
   "metadata": {},
   "outputs": [
    {
     "name": "stdout",
     "output_type": "stream",
     "text": [
      "Logistic Regression Scaled Training Data Score: 0.7124794745484401\n",
      "Logistic Regression Scaled Testing Data Score: 0.6712037430880476\n"
     ]
    }
   ],
   "source": [
    "# Train the Logistic Regression model on the scaled data and print the model score\n",
    "classifier = LogisticRegression()\n",
    "classifier.fit(X_train_scaled, y_train)\n",
    "print(f\"Logistic Regression Scaled Training Data Score: {classifier.score(X_train_scaled, y_train)}\")\n",
    "print(f\"Logistic Regression Scaled Testing Data Score: {classifier.score(X_test_scaled, y_test)}\")"
   ]
  },
  {
   "cell_type": "code",
   "execution_count": 15,
   "metadata": {},
   "outputs": [
    {
     "name": "stdout",
     "output_type": "stream",
     "text": [
      "Random Forest Scaled Training Data Score: 0.5027093596059113\n",
      "Random Forest Scaled Testing Data Score: 0.5004253509145045\n"
     ]
    }
   ],
   "source": [
    "# Train a Random Forest Classifier model on the scaled data and print the model score\n",
    "rf_clf = RandomForestClassifier(random_state=1)\n",
    "rf_clf.fit(X_train_scaled, y_train)\n",
    "print(f\"Random Forest Scaled Training Data Score: {rf_clf.score(X_train, y_train)}\")\n",
    "print(f\"Random Forest Scaled Testing Data Score: {rf_clf.score(X_test, y_test)}\")"
   ]
  },
  {
   "cell_type": "code",
   "execution_count": null,
   "metadata": {},
   "outputs": [],
   "source": []
  }
 ],
 "metadata": {
  "kernelspec": {
   "display_name": "Python 3",
   "language": "python",
   "name": "python3"
  },
  "language_info": {
   "codemirror_mode": {
    "name": "ipython",
    "version": 3
   },
   "file_extension": ".py",
   "mimetype": "text/x-python",
   "name": "python",
   "nbconvert_exporter": "python",
   "pygments_lexer": "ipython3",
   "version": "3.8.8"
  }
 },
 "nbformat": 4,
 "nbformat_minor": 4
}
